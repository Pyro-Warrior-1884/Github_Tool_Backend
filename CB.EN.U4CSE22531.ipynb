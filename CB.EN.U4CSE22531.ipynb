{
 "cells": [
  {
   "cell_type": "code",
   "execution_count": null,
   "id": "e11eb68c",
   "metadata": {},
   "outputs": [],
   "source": [
    "import torch\n",
    "import torch.nn as nn\n",
    "import torch.optim as optim"
   ]
  },
  {
   "cell_type": "code",
   "execution_count": 3,
   "id": "f98f349b",
   "metadata": {},
   "outputs": [],
   "source": [
    "def train_gate(gate_name, x_data, y_data, epochs=2000, lr=0.1):\n",
    "    model = MLP()\n",
    "    criterion = nn.BCELoss()\n",
    "    optimizer = optim.SGD(model.parameters(), lr=lr)\n",
    "\n",
    "    for epoch in range(epochs):\n",
    "        optimizer.zero_grad()\n",
    "        outputs = model(x_data)\n",
    "        loss = criterion(outputs, y_data)\n",
    "        loss.backward()\n",
    "        optimizer.step()\n",
    "\n",
    "    # Test the model\n",
    "    with torch.no_grad():\n",
    "        outputs = model(x_data)\n",
    "        predicted = (outputs > 0.5).float()\n",
    "        print(f\"\\n{gate_name} GATE RESULTS\")\n",
    "        print(\"Inputs\\tPredicted\\tActual\")\n",
    "        for i in range(len(x_data)):\n",
    "            print(f\"{x_data[i].tolist()}\\t{int(predicted[i].item())}\\t\\t{int(y_data[i].item())}\")\n",
    "    return model"
   ]
  },
  {
   "cell_type": "code",
   "execution_count": 4,
   "id": "cc8e3c40",
   "metadata": {},
   "outputs": [
    {
     "name": "stdout",
     "output_type": "stream",
     "text": [
      "\n",
      "AND GATE RESULTS\n",
      "Inputs\tPredicted\tActual\n",
      "[0.0, 0.0]\t0\t\t0\n",
      "[0.0, 1.0]\t0\t\t0\n",
      "[1.0, 0.0]\t0\t\t0\n",
      "[1.0, 1.0]\t1\t\t1\n",
      "\n",
      "OR GATE RESULTS\n",
      "Inputs\tPredicted\tActual\n",
      "[0.0, 0.0]\t0\t\t0\n",
      "[0.0, 1.0]\t1\t\t1\n",
      "[1.0, 0.0]\t1\t\t1\n",
      "[1.0, 1.0]\t1\t\t1\n",
      "\n",
      "NOR GATE RESULTS\n",
      "Inputs\tPredicted\tActual\n",
      "[0.0, 0.0]\t1\t\t1\n",
      "[0.0, 1.0]\t0\t\t0\n",
      "[1.0, 0.0]\t0\t\t0\n",
      "[1.0, 1.0]\t0\t\t0\n"
     ]
    },
    {
     "data": {
      "text/plain": [
       "MLP(\n",
       "  (layer): Sequential(\n",
       "    (0): Linear(in_features=2, out_features=4, bias=True)\n",
       "    (1): ReLU()\n",
       "    (2): Linear(in_features=4, out_features=1, bias=True)\n",
       "    (3): Sigmoid()\n",
       "  )\n",
       ")"
      ]
     },
     "execution_count": 4,
     "metadata": {},
     "output_type": "execute_result"
    }
   ],
   "source": [
    "x_data = torch.tensor([\n",
    "    [0, 0],\n",
    "    [0, 1],\n",
    "    [1, 0],\n",
    "    [1, 1]\n",
    "], dtype=torch.float32)\n",
    "\n",
    "# Labels for each gate\n",
    "y_and = torch.tensor([[0], [0], [0], [1]], dtype=torch.float32)\n",
    "y_or  = torch.tensor([[0], [1], [1], [1]], dtype=torch.float32)\n",
    "y_nor = torch.tensor([[1], [0], [0], [0]], dtype=torch.float32)\n",
    "\n",
    "# Train models\n",
    "train_gate(\"AND\", x_data, y_and)\n",
    "train_gate(\"OR\", x_data, y_or)\n",
    "train_gate(\"NOR\", x_data, y_nor)"
   ]
  },
  {
   "cell_type": "code",
   "execution_count": null,
   "id": "1438fa8f",
   "metadata": {},
   "outputs": [],
   "source": []
  }
 ],
 "metadata": {
  "kernelspec": {
   "display_name": "pytorch",
   "language": "python",
   "name": "python3"
  },
  "language_info": {
   "codemirror_mode": {
    "name": "ipython",
    "version": 3
   },
   "file_extension": ".py",
   "mimetype": "text/x-python",
   "name": "python",
   "nbconvert_exporter": "python",
   "pygments_lexer": "ipython3",
   "version": "3.10.18"
  }
 },
 "nbformat": 4,
 "nbformat_minor": 5
}
